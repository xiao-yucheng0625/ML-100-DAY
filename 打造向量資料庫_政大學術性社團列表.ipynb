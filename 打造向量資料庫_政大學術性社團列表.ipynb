{
  "nbformat": 4,
  "nbformat_minor": 0,
  "metadata": {
    "colab": {
      "provenance": [],
      "private_outputs": true,
      "include_colab_link": true
    },
    "kernelspec": {
      "name": "python3",
      "display_name": "Python 3"
    },
    "language_info": {
      "name": "python"
    }
  },
  "cells": [
    {
      "cell_type": "markdown",
      "metadata": {
        "id": "view-in-github",
        "colab_type": "text"
      },
      "source": [
        "<a href=\"https://colab.research.google.com/github/xiao-yucheng0625/ML-Progression-Journal/blob/main/%E6%89%93%E9%80%A0%E5%90%91%E9%87%8F%E8%B3%87%E6%96%99%E5%BA%AB_%E6%94%BF%E5%A4%A7%E5%AD%B8%E8%A1%93%E6%80%A7%E7%A4%BE%E5%9C%98%E5%88%97%E8%A1%A8.ipynb\" target=\"_parent\"><img src=\"https://colab.research.google.com/assets/colab-badge.svg\" alt=\"Open In Colab\"/></a>"
      ]
    },
    {
      "cell_type": "markdown",
      "source": [
        "暫時沒有任何資料，可以用[政大學術性社團列表](https://raw.githubusercontent.com/yenlung/AI-Demo/refs/heads/master/data/nccu_academic_clubs_complete.txt)來練習。"
      ],
      "metadata": {
        "id": "9z16UWbCuDf5"
      }
    },
    {
      "cell_type": "markdown",
      "source": [
        "### 1. 建立資料夾"
      ],
      "metadata": {
        "id": "2x0CkPdF8O4n"
      }
    },
    {
      "cell_type": "code",
      "execution_count": null,
      "metadata": {
        "id": "Gfq9Ca9C71vz"
      },
      "outputs": [],
      "source": [
        "import os\n",
        "upload_dir = \"uploaded_docs\"\n",
        "os.makedirs(upload_dir, exist_ok=True)\n",
        "print(f\"請將你的 .txt, .pdf, .docx 檔案放到這個資料夾中： {upload_dir}\")"
      ]
    },
    {
      "cell_type": "markdown",
      "source": [
        "### 2. 更新必要套件並引入"
      ],
      "metadata": {
        "id": "xyEPtSec8XHm"
      }
    },
    {
      "cell_type": "code",
      "source": [
        "!pip install -U langchain langchain-community pypdf python-docx sentence-transformers faiss-cpu"
      ],
      "metadata": {
        "id": "mWVwCLE49l2F"
      },
      "execution_count": null,
      "outputs": []
    },
    {
      "cell_type": "code",
      "source": [
        "from langchain_community.document_loaders import TextLoader, PyPDFLoader, UnstructuredWordDocumentLoader\n",
        "from langchain.text_splitter import RecursiveCharacterTextSplitter\n",
        "from langchain.embeddings import HuggingFaceEmbeddings\n",
        "from langchain.vectorstores import FAISS # 建立向量資料庫"
      ],
      "metadata": {
        "id": "vl3FTfQM8VE1"
      },
      "execution_count": null,
      "outputs": []
    },
    {
      "cell_type": "markdown",
      "source": [
        "### 3. 依 e5 建議加入\n",
        "\n",
        "自訂支援 E5 的 embedding 模型（加上 \"passage:\" / \"query:\" 前綴）"
      ],
      "metadata": {
        "id": "BQVRqMsu-V78"
      }
    },
    {
      "cell_type": "code",
      "source": [
        "from langchain.embeddings import HuggingFaceEmbeddings\n",
        "\n",
        "class CustomE5Embedding(HuggingFaceEmbeddings): # E5 具有多語言能力\n",
        "    def embed_documents(self, texts):\n",
        "        texts = [f\"passage: {t}\" for t in texts] # 加上 passage 前綴詞\n",
        "        return super().embed_documents(texts)\n",
        "\n",
        "    def embed_query(self, text):\n",
        "        return super().embed_query(f\"query: {text}\") # 加上 query 前綴詞"
      ],
      "metadata": {
        "id": "Hs3YZvis9CiJ"
      },
      "execution_count": null,
      "outputs": []
    },
    {
      "cell_type": "markdown",
      "source": [
        "### 4. 載入文件"
      ],
      "metadata": {
        "id": "jmWZud76-jRt"
      }
    },
    {
      "cell_type": "code",
      "source": [
        "folder_path = upload_dir\n",
        "documents = []\n",
        "for file in os.listdir(folder_path):\n",
        "    path = os.path.join(folder_path, file)\n",
        "    if file.endswith(\".txt\"):\n",
        "        loader = TextLoader(path)\n",
        "    elif file.endswith(\".pdf\"):\n",
        "        loader = PyPDFLoader(path)\n",
        "    elif file.endswith(\".docx\"):\n",
        "        loader = UnstructuredWordDocumentLoader(path)\n",
        "    else:\n",
        "        continue\n",
        "    documents.extend(loader.load())"
      ],
      "metadata": {
        "id": "cfZPj3Oo-fPZ"
      },
      "execution_count": null,
      "outputs": []
    },
    {
      "cell_type": "markdown",
      "source": [
        "### 5. 建立向量資料庫"
      ],
      "metadata": {
        "id": "wvg1cAwn-rLC"
      }
    },
    {
      "cell_type": "code",
      "source": [
        "splitter = RecursiveCharacterTextSplitter(chunk_size=500, chunk_overlap=100)\n",
        "split_docs = splitter.split_documents(documents)"
      ],
      "metadata": {
        "id": "EMke5c4n-m1s"
      },
      "execution_count": null,
      "outputs": []
    },
    {
      "cell_type": "code",
      "source": [
        "embedding_model = CustomE5Embedding(model_name=\"intfloat/multilingual-e5-small\")\n",
        "vectorstore = FAISS.from_documents(split_docs, embedding_model)"
      ],
      "metadata": {
        "id": "RZqJOiaE-vrI"
      },
      "execution_count": null,
      "outputs": []
    },
    {
      "cell_type": "markdown",
      "source": [
        "### 6. 儲存向量資料庫"
      ],
      "metadata": {
        "id": "dqvR4i8Y-5du"
      }
    },
    {
      "cell_type": "code",
      "source": [
        "vectorstore.save_local(\"faiss_db\")"
      ],
      "metadata": {
        "id": "KxdIhkku-2Zf"
      },
      "execution_count": null,
      "outputs": []
    },
    {
      "cell_type": "code",
      "source": [
        "!zip -r faiss_db.zip faiss_db"
      ],
      "metadata": {
        "id": "Pw23tkEKUfPW"
      },
      "execution_count": null,
      "outputs": []
    },
    {
      "cell_type": "code",
      "source": [
        "print(\"✅ 壓縮好的向量資料庫已儲存為 'faiss_db.zip'，請下載此檔案備份。\")"
      ],
      "metadata": {
        "id": "vCiRAlnrVUCJ"
      },
      "execution_count": null,
      "outputs": []
    }
  ]
}